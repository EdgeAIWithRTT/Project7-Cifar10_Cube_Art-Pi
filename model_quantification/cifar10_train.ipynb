{
 "cells": [
  {
   "cell_type": "code",
   "execution_count": 1,
   "metadata": {},
   "outputs": [],
   "source": [
    "#cifar\n",
    "import tensorflow as tf\n",
    "from tensorflow import keras\n",
    "from tensorflow.keras import backend\n",
    "from tensorflow.keras import layers\n",
    "import os\n",
    "import numpy as np \n",
    "from matplotlib import pyplot as plt\n",
    "# os.environ[\"CUDA_VISIBLE_DEVICES\"] = \"1\"\n",
    "%matplotlib inline"
   ]
  },
  {
   "cell_type": "code",
   "execution_count": 2,
   "metadata": {},
   "outputs": [],
   "source": [
    "# create CNN\n",
    "def CNNmodel(input_shape,filters=64, kernel=(3,3),size=4,dropout=0.2,**kwargs):\n",
    "    _inputs = layers.Input(shape=input_shape)\n",
    "    x = layers.Conv2D(8,(3,3),padding='same',use_bias=False,strides=(2,2), name='conv_0')(_inputs)\n",
    "    x = layers.BatchNormalization(axis=-1, name='conv_0_bn')(x)\n",
    "    x = layers.ReLU(6., name='conv_0_relu')(x)\n",
    "    \n",
    "    x = layers.Conv2D(16,(3,3),padding='same',use_bias=False,strides=(2,2), name='conv_1')(_inputs)\n",
    "    x = layers.BatchNormalization(axis=-1, name='conv_1_bn')(x)\n",
    "    x = layers.ReLU(6., name='conv_1_relu')(x)\n",
    "\n",
    "    for block_id in range(2,size+2):\n",
    "        x = layers.Conv2D(filters,kernel,padding='same',use_bias=False,strides=(1,1), name='conv_%d'%block_id)(x)\n",
    "        x = layers.BatchNormalization(axis=-1, name='conv_%d_bn'%block_id)(x)\n",
    "        x = layers.ReLU(6., name='conv_%d_relu'%block_id)(x)\n",
    "\n",
    "    x = layers.GlobalAveragePooling2D()(x)\n",
    "    x = layers.Dropout(dropout, name='dropout')(x)\n",
    "    x = layers.Dense(10)(x)\n",
    "    x = layers.Softmax()(x)\n",
    "    return keras.Model(inputs=_inputs,outputs=x)"
   ]
  },
  {
   "cell_type": "code",
   "execution_count": null,
   "metadata": {},
   "outputs": [
    {
     "name": "stdout",
     "output_type": "stream",
     "text": [
      "Downloading data from https://www.cs.toronto.edu/~kriz/cifar-10-python.tar.gz\n",
      " 75063296/170498071 [============>.................] - ETA: 45:17"
     ]
    }
   ],
   "source": [
    "# preprocess input\n",
    "def preprocess_input(inputs, std=255. ,mean=0., expand_dims=None):\n",
    "    inputs = tf.cast(inputs,tf.float32)\n",
    "    inputs = (inputs - mean) / std\n",
    "    if expand_dims is not None:\n",
    "        np.expand_dims(inputs,expand_dims)\n",
    "    return inputs\n",
    "\n",
    "# dataset aug\n",
    "def img_aug_fun(elem):\n",
    "    elem = tf.image.random_flip_left_right(elem)#左右翻转\n",
    "    elem = tf.image.random_brightness(elem, max_delta=0.5)#调亮度\n",
    "    elem = tf.image.random_contrast(elem, lower=0.5, upper=1.5)#调对比度\n",
    "    elem = preprocess_input(elem)\n",
    "    return elem\n",
    "\n",
    "# load CIFAR10 dataset, size(32,32,3)\n",
    "(x_train, y_train), (x_test, y_test) = keras.datasets.cifar10.load_data()\n",
    "assert x_train.shape == (50000, 32, 32, 3)\n",
    "assert x_test.shape == (10000, 32, 32, 3)\n",
    "assert y_train.shape == (50000, 1)\n",
    "assert y_test.shape == (10000, 1)\n",
    "\n",
    "x_test = preprocess_input(x_test)\n",
    "x_train_ds = tf.data.Dataset.from_tensor_slices(x_train).map(img_aug_fun)\n",
    "y_train_ds = tf.data.Dataset.from_tensor_slices(y_train)\n",
    "x_y_train_ds = tf.data.Dataset.zip((x_train_ds,y_train_ds))\n",
    "x_y_train_ds = x_y_train_ds.batch(128)"
   ]
  },
  {
   "cell_type": "code",
   "execution_count": 4,
   "metadata": {},
   "outputs": [
    {
     "name": "stdout",
     "output_type": "stream",
     "text": [
      "Epoch 1/500\n",
      "391/391 - 16s - loss: 2.0909 - accuracy: 0.2065 - val_loss: 2.2592 - val_accuracy: 0.1783\n",
      "Epoch 2/500\n",
      "391/391 - 14s - loss: 1.8456 - accuracy: 0.2953 - val_loss: 1.7214 - val_accuracy: 0.3429\n",
      "Epoch 3/500\n",
      "391/391 - 14s - loss: 1.7404 - accuracy: 0.3398 - val_loss: 1.5942 - val_accuracy: 0.4036\n",
      "Epoch 4/500\n",
      "391/391 - 14s - loss: 1.6547 - accuracy: 0.3804 - val_loss: 1.5128 - val_accuracy: 0.4618\n",
      "Epoch 5/500\n",
      "391/391 - 13s - loss: 1.5748 - accuracy: 0.4201 - val_loss: 1.4497 - val_accuracy: 0.4789\n",
      "Epoch 6/500\n",
      "391/391 - 14s - loss: 1.4948 - accuracy: 0.4522 - val_loss: 1.4727 - val_accuracy: 0.4683\n",
      "Epoch 7/500\n",
      "391/391 - 14s - loss: 1.4275 - accuracy: 0.4794 - val_loss: 1.4442 - val_accuracy: 0.4959\n",
      "Epoch 8/500\n",
      "391/391 - 14s - loss: 1.3667 - accuracy: 0.5058 - val_loss: 1.2725 - val_accuracy: 0.5290\n",
      "Epoch 9/500\n",
      "391/391 - 13s - loss: 1.3100 - accuracy: 0.5300 - val_loss: 1.4093 - val_accuracy: 0.4910\n",
      "Epoch 10/500\n",
      "391/391 - 13s - loss: 1.2610 - accuracy: 0.5464 - val_loss: 1.2455 - val_accuracy: 0.5583\n",
      "Epoch 11/500\n",
      "391/391 - 13s - loss: 1.2074 - accuracy: 0.5652 - val_loss: 1.1655 - val_accuracy: 0.5829\n",
      "Epoch 12/500\n",
      "391/391 - 14s - loss: 1.1678 - accuracy: 0.5820 - val_loss: 1.3354 - val_accuracy: 0.5358\n",
      "Epoch 13/500\n",
      "391/391 - 14s - loss: 1.1304 - accuracy: 0.5959 - val_loss: 1.0445 - val_accuracy: 0.6330\n",
      "Epoch 14/500\n",
      "391/391 - 13s - loss: 1.1002 - accuracy: 0.6069 - val_loss: 1.0435 - val_accuracy: 0.6324\n",
      "Epoch 15/500\n",
      "391/391 - 13s - loss: 1.0686 - accuracy: 0.6211 - val_loss: 0.9974 - val_accuracy: 0.6451\n",
      "Epoch 16/500\n",
      "391/391 - 13s - loss: 1.0357 - accuracy: 0.6332 - val_loss: 0.9578 - val_accuracy: 0.6643\n",
      "Epoch 17/500\n",
      "391/391 - 13s - loss: 1.0059 - accuracy: 0.6446 - val_loss: 0.9735 - val_accuracy: 0.6623\n",
      "Epoch 18/500\n",
      "391/391 - 15s - loss: 0.9834 - accuracy: 0.6504 - val_loss: 0.9403 - val_accuracy: 0.6715\n",
      "Epoch 19/500\n",
      "391/391 - 13s - loss: 0.9595 - accuracy: 0.6626 - val_loss: 0.9232 - val_accuracy: 0.6732\n",
      "Epoch 20/500\n",
      "391/391 - 15s - loss: 0.9432 - accuracy: 0.6670 - val_loss: 0.8436 - val_accuracy: 0.7098\n",
      "Epoch 21/500\n",
      "391/391 - 16s - loss: 0.9217 - accuracy: 0.6750 - val_loss: 0.9440 - val_accuracy: 0.6742\n",
      "Epoch 22/500\n",
      "391/391 - 16s - loss: 0.9009 - accuracy: 0.6840 - val_loss: 0.8597 - val_accuracy: 0.6964\n",
      "Epoch 23/500\n",
      "391/391 - 14s - loss: 0.8776 - accuracy: 0.6930 - val_loss: 0.8690 - val_accuracy: 0.6936\n",
      "Epoch 24/500\n",
      "391/391 - 13s - loss: 0.8647 - accuracy: 0.6970 - val_loss: 0.9102 - val_accuracy: 0.6865\n",
      "Epoch 25/500\n",
      "391/391 - 14s - loss: 0.8436 - accuracy: 0.7043 - val_loss: 0.8367 - val_accuracy: 0.7074\n",
      "Epoch 26/500\n",
      "391/391 - 14s - loss: 0.8285 - accuracy: 0.7116 - val_loss: 0.7765 - val_accuracy: 0.7298\n",
      "Epoch 27/500\n",
      "391/391 - 15s - loss: 0.8135 - accuracy: 0.7170 - val_loss: 0.8726 - val_accuracy: 0.6990\n",
      "Epoch 28/500\n",
      "391/391 - 14s - loss: 0.8026 - accuracy: 0.7189 - val_loss: 0.7555 - val_accuracy: 0.7355\n",
      "Epoch 29/500\n",
      "391/391 - 14s - loss: 0.7833 - accuracy: 0.7262 - val_loss: 0.8255 - val_accuracy: 0.7136\n",
      "Epoch 30/500\n",
      "391/391 - 13s - loss: 0.7713 - accuracy: 0.7291 - val_loss: 0.7574 - val_accuracy: 0.7369\n",
      "Epoch 31/500\n",
      "391/391 - 14s - loss: 0.7565 - accuracy: 0.7365 - val_loss: 0.7926 - val_accuracy: 0.7295\n",
      "Epoch 32/500\n",
      "391/391 - 14s - loss: 0.7453 - accuracy: 0.7430 - val_loss: 0.7928 - val_accuracy: 0.7313\n",
      "Epoch 33/500\n",
      "391/391 - 15s - loss: 0.7313 - accuracy: 0.7469 - val_loss: 0.7516 - val_accuracy: 0.7394\n",
      "Epoch 34/500\n",
      "391/391 - 13s - loss: 0.7199 - accuracy: 0.7522 - val_loss: 0.7067 - val_accuracy: 0.7572\n",
      "Epoch 35/500\n",
      "391/391 - 13s - loss: 0.7071 - accuracy: 0.7563 - val_loss: 0.6836 - val_accuracy: 0.7664\n",
      "Epoch 36/500\n",
      "391/391 - 13s - loss: 0.6989 - accuracy: 0.7561 - val_loss: 0.7095 - val_accuracy: 0.7574\n",
      "Epoch 37/500\n",
      "391/391 - 13s - loss: 0.6847 - accuracy: 0.7651 - val_loss: 0.7128 - val_accuracy: 0.7534\n",
      "Epoch 38/500\n",
      "391/391 - 13s - loss: 0.6739 - accuracy: 0.7672 - val_loss: 0.7427 - val_accuracy: 0.7411\n",
      "Epoch 39/500\n",
      "391/391 - 13s - loss: 0.6633 - accuracy: 0.7706 - val_loss: 0.7101 - val_accuracy: 0.7541\n",
      "Epoch 40/500\n",
      "391/391 - 14s - loss: 0.6606 - accuracy: 0.7709 - val_loss: 0.7290 - val_accuracy: 0.7509\n",
      "Epoch 41/500\n",
      "391/391 - 14s - loss: 0.6489 - accuracy: 0.7756 - val_loss: 0.8546 - val_accuracy: 0.7137\n",
      "Epoch 42/500\n",
      "391/391 - 14s - loss: 0.6441 - accuracy: 0.7783 - val_loss: 0.7110 - val_accuracy: 0.7563\n",
      "Epoch 43/500\n",
      "391/391 - 14s - loss: 0.6290 - accuracy: 0.7838 - val_loss: 0.6799 - val_accuracy: 0.7659\n",
      "Epoch 00043: early stopping\n"
     ]
    }
   ],
   "source": [
    "reduce_lr = keras.callbacks.ReduceLROnPlateau(monitor='accuracy', factor=0.5, patience=4, min_lr=0.0001,verbose=1)\n",
    "earlystop = keras.callbacks.EarlyStopping(monitor='val_accuracy', patience=8,verbose=1)\n",
    "\n",
    "model = CNNmodel(input_shape=(32,32,3),filters=64, kernel=(3,3),size=9)\n",
    "model.compile(optimizer='SGD',loss='sparse_categorical_crossentropy',metrics=['accuracy'])\n",
    "history = model.fit(x_y_train_ds,validation_data=(x_test,y_test),callbacks=[reduce_lr,earlystop],verbose=2,epochs=500)"
   ]
  },
  {
   "cell_type": "code",
   "execution_count": 5,
   "metadata": {},
   "outputs": [
    {
     "data": {
      "image/png": "[encoded data removed]",
      "text/plain": [
       "<Figure size 432x288 with 1 Axes>"
      ]
     },
     "metadata": {
      "needs_background": "light"
     },
     "output_type": "display_data"
    }
   ],
   "source": [
    "plt.plot(history.history['val_accuracy'],label='val_acc')\n",
    "plt.legend()\n",
    "plt.xlabel('Epochs')\n",
    "plt.ylabel('Acc')\n",
    "plt.show()"
   ]
  },
  {
   "cell_type": "code",
   "execution_count": 6,
   "metadata": {},
   "outputs": [],
   "source": [
    "model.save('checkpoint/Cifar10_CNN_%.3f'%history.history['val_accuracy'][-1]+'.h5')"
   ]
  }
 ],
 "metadata": {
  "kernelspec": {
   "display_name": "Python 3",
   "language": "python",
   "name": "python3"
  },
  "language_info": {
   "codemirror_mode": {
    "name": "ipython",
    "version": 3
   },
   "file_extension": ".py",
   "mimetype": "text/x-python",
   "name": "python",
   "nbconvert_exporter": "python",
   "pygments_lexer": "ipython3",
   "version": "3.7.9"
  }
 },
 "nbformat": 4,
 "nbformat_minor": 4
}
